{
 "cells": [
  {
   "cell_type": "code",
   "execution_count": 13,
   "id": "f7ca4b8a",
   "metadata": {},
   "outputs": [],
   "source": [
    "import numpy as np\n",
    "from fractions import Fraction\n",
    "\n",
    "def solution(m):\n",
    "    #Identify the absorbing states\n",
    "    absorbing_states = [i for i in range(len(m)) if sum(m[i]) == 0]\n",
    "\n",
    "    # Step 2: If there are no absorbing states, return uniform probability\n",
    "    if len(absorbing_states) == len(m):\n",
    "        return [1] + [0] * (len(m)-1)\n",
    "\n",
    "    #Transform the matrix m into a new matrix Q and R\n",
    "    Q = []\n",
    "    R = []\n",
    "    for i in range(len(m)):\n",
    "        if i not in absorbing_states:\n",
    "            q_row = []\n",
    "            r_row = []\n",
    "            for j in range(len(m)):\n",
    "                if j not in absorbing_states:\n",
    "                    q_row.append(m[i][j])\n",
    "                else:\n",
    "                    r_row.append(m[i][j])\n",
    "            Q.append(q_row)\n",
    "            R.append(r_row)\n",
    "    Q = np.array(Q)\n",
    "    R = np.array(R)\n",
    "\n",
    "    #Create the identity matrix I\n",
    "    I = np.identity(len(Q))\n",
    "\n",
    "    #Calculate the matrix N\n",
    "    try:\n",
    "        N = np.linalg.inv(I - Q)\n",
    "    except np.linalg.LinAlgError:\n",
    "        return \"Matrix is not invertible.\"\n",
    "\n",
    "    #Calculate the matrix B\n",
    "    B = np.dot(N, R)\n",
    "\n",
    "    #Calculate the probability of each absorbing state\n",
    "    probabilities = []\n",
    "    for state in absorbing_states:\n",
    "        prob = 0\n",
    "        for i in range(len(Q)):\n",
    "            prob += B[i][state]\n",
    "        prob = Fraction(prob).limit_denominator()\n",
    "        probabilities.append(prob)\n",
    "\n",
    "    #Simplify the fractions and return the result\n",
    "    lcm = 1\n",
    "    for prob in probabilities:\n",
    "        lcm = lcm * prob.denominator // np.gcd(lcm, prob.denominator)\n",
    "    result = [int(prob.numerator * lcm // prob.denominator) for prob in probabilities] + [lcm]\n",
    "    return result\n"
   ]
  },
  {
   "cell_type": "code",
   "execution_count": 27,
   "id": "2174aa56",
   "metadata": {},
   "outputs": [
    {
     "name": "stdout",
     "output_type": "stream",
     "text": [
      "[1, 9, 12, 1]\n"
     ]
    }
   ],
   "source": [
    "m = np.array([[0, 2, 1, 0, 0], [0, 0, 0, 3, 4], [0, 0, 0, 0, 0], [0, 0, 0, 0,0], [0, 0, 0, 0, 0]])\n",
    "print(solution(m))"
   ]
  },
  {
   "cell_type": "code",
   "execution_count": null,
   "id": "53d7c99d",
   "metadata": {},
   "outputs": [],
   "source": []
  }
 ],
 "metadata": {
  "kernelspec": {
   "display_name": "Python 3 (ipykernel)",
   "language": "python",
   "name": "python3"
  },
  "language_info": {
   "codemirror_mode": {
    "name": "ipython",
    "version": 3
   },
   "file_extension": ".py",
   "mimetype": "text/x-python",
   "name": "python",
   "nbconvert_exporter": "python",
   "pygments_lexer": "ipython3",
   "version": "3.9.13"
  }
 },
 "nbformat": 4,
 "nbformat_minor": 5
}
